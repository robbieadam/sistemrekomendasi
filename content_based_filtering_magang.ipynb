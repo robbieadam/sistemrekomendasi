{
  "nbformat": 4,
  "nbformat_minor": 0,
  "metadata": {
    "colab": {
      "provenance": [],
      "include_colab_link": true
    },
    "kernelspec": {
      "name": "python3",
      "display_name": "Python 3"
    },
    "language_info": {
      "name": "python"
    }
  },
  "cells": [
    {
      "cell_type": "markdown",
      "metadata": {
        "id": "view-in-github",
        "colab_type": "text"
      },
      "source": [
        "<a href=\"https://colab.research.google.com/github/robbieadam/sistemrekomendasi/blob/main/content_based_filtering_magang.ipynb\" target=\"_parent\"><img src=\"https://colab.research.google.com/assets/colab-badge.svg\" alt=\"Open In Colab\"/></a>"
      ]
    },
    {
      "cell_type": "markdown",
      "source": [
        "**Contoh Content Based Filtering : Rekomendasi Modul Pembelajaran Magang**"
      ],
      "metadata": {
        "id": "JtdsGuZkDKOa"
      }
    },
    {
      "cell_type": "code",
      "execution_count": null,
      "metadata": {
        "id": "qY_iF2mkDEYs",
        "colab": {
          "base_uri": "https://localhost:8080/"
        },
        "outputId": "03bfab1b-919d-4b14-93ac-ec1660772c4b"
      },
      "outputs": [
        {
          "output_type": "execute_result",
          "data": {
            "text/plain": [
              "                                   mitra  \\\n",
              "0                                 Robbie   \n",
              "1  PT. IlmuKomputerCom Braindevs Sistema   \n",
              "2         PT Mitra Integrasi Informatika   \n",
              "3           PT Semesta Integrasi Digital   \n",
              "4      PT Telkom Indonesia (Persero) Tbk   \n",
              "\n",
              "                                              alamat  \\\n",
              "0                    Banyumanik Semarang Jawa Tengah   \n",
              "1  Menara Bidakara 1  Lantai 2,\\r\\nJl. Gatot Subr...   \n",
              "2  APL Tower Lantai 37, Jl. Letjen S. Parman Kav....   \n",
              "3  Jl. Jeruk Purut Dalam No.33, RT.6/RW.3, \\r\\nCi...   \n",
              "4                               Jl Japati 1, Bandung   \n",
              "\n",
              "                                               modul  \n",
              "0  Text Mining   Machine Learning   Basis Data   ...  \n",
              "1  Software Engineering   Time Management   Commu...  \n",
              "2  Documentation Skills   Coding   Analytic Skill...  \n",
              "3  Software Engineering   Software Testing   Rise...  \n",
              "4  Software Development   Component Integration  ...  "
            ],
            "text/html": [
              "\n",
              "  <div id=\"df-1463b654-2957-4e34-ae71-2809bcc8bd9a\">\n",
              "    <div class=\"colab-df-container\">\n",
              "      <div>\n",
              "<style scoped>\n",
              "    .dataframe tbody tr th:only-of-type {\n",
              "        vertical-align: middle;\n",
              "    }\n",
              "\n",
              "    .dataframe tbody tr th {\n",
              "        vertical-align: top;\n",
              "    }\n",
              "\n",
              "    .dataframe thead th {\n",
              "        text-align: right;\n",
              "    }\n",
              "</style>\n",
              "<table border=\"1\" class=\"dataframe\">\n",
              "  <thead>\n",
              "    <tr style=\"text-align: right;\">\n",
              "      <th></th>\n",
              "      <th>mitra</th>\n",
              "      <th>alamat</th>\n",
              "      <th>modul</th>\n",
              "    </tr>\n",
              "  </thead>\n",
              "  <tbody>\n",
              "    <tr>\n",
              "      <th>0</th>\n",
              "      <td>Robbie</td>\n",
              "      <td>Banyumanik Semarang Jawa Tengah</td>\n",
              "      <td>Text Mining   Machine Learning   Basis Data   ...</td>\n",
              "    </tr>\n",
              "    <tr>\n",
              "      <th>1</th>\n",
              "      <td>PT. IlmuKomputerCom Braindevs Sistema</td>\n",
              "      <td>Menara Bidakara 1  Lantai 2,\\r\\nJl. Gatot Subr...</td>\n",
              "      <td>Software Engineering   Time Management   Commu...</td>\n",
              "    </tr>\n",
              "    <tr>\n",
              "      <th>2</th>\n",
              "      <td>PT Mitra Integrasi Informatika</td>\n",
              "      <td>APL Tower Lantai 37, Jl. Letjen S. Parman Kav....</td>\n",
              "      <td>Documentation Skills   Coding   Analytic Skill...</td>\n",
              "    </tr>\n",
              "    <tr>\n",
              "      <th>3</th>\n",
              "      <td>PT Semesta Integrasi Digital</td>\n",
              "      <td>Jl. Jeruk Purut Dalam No.33, RT.6/RW.3, \\r\\nCi...</td>\n",
              "      <td>Software Engineering   Software Testing   Rise...</td>\n",
              "    </tr>\n",
              "    <tr>\n",
              "      <th>4</th>\n",
              "      <td>PT Telkom Indonesia (Persero) Tbk</td>\n",
              "      <td>Jl Japati 1, Bandung</td>\n",
              "      <td>Software Development   Component Integration  ...</td>\n",
              "    </tr>\n",
              "  </tbody>\n",
              "</table>\n",
              "</div>\n",
              "      <button class=\"colab-df-convert\" onclick=\"convertToInteractive('df-1463b654-2957-4e34-ae71-2809bcc8bd9a')\"\n",
              "              title=\"Convert this dataframe to an interactive table.\"\n",
              "              style=\"display:none;\">\n",
              "        \n",
              "  <svg xmlns=\"http://www.w3.org/2000/svg\" height=\"24px\"viewBox=\"0 0 24 24\"\n",
              "       width=\"24px\">\n",
              "    <path d=\"M0 0h24v24H0V0z\" fill=\"none\"/>\n",
              "    <path d=\"M18.56 5.44l.94 2.06.94-2.06 2.06-.94-2.06-.94-.94-2.06-.94 2.06-2.06.94zm-11 1L8.5 8.5l.94-2.06 2.06-.94-2.06-.94L8.5 2.5l-.94 2.06-2.06.94zm10 10l.94 2.06.94-2.06 2.06-.94-2.06-.94-.94-2.06-.94 2.06-2.06.94z\"/><path d=\"M17.41 7.96l-1.37-1.37c-.4-.4-.92-.59-1.43-.59-.52 0-1.04.2-1.43.59L10.3 9.45l-7.72 7.72c-.78.78-.78 2.05 0 2.83L4 21.41c.39.39.9.59 1.41.59.51 0 1.02-.2 1.41-.59l7.78-7.78 2.81-2.81c.8-.78.8-2.07 0-2.86zM5.41 20L4 18.59l7.72-7.72 1.47 1.35L5.41 20z\"/>\n",
              "  </svg>\n",
              "      </button>\n",
              "      \n",
              "  <style>\n",
              "    .colab-df-container {\n",
              "      display:flex;\n",
              "      flex-wrap:wrap;\n",
              "      gap: 12px;\n",
              "    }\n",
              "\n",
              "    .colab-df-convert {\n",
              "      background-color: #E8F0FE;\n",
              "      border: none;\n",
              "      border-radius: 50%;\n",
              "      cursor: pointer;\n",
              "      display: none;\n",
              "      fill: #1967D2;\n",
              "      height: 32px;\n",
              "      padding: 0 0 0 0;\n",
              "      width: 32px;\n",
              "    }\n",
              "\n",
              "    .colab-df-convert:hover {\n",
              "      background-color: #E2EBFA;\n",
              "      box-shadow: 0px 1px 2px rgba(60, 64, 67, 0.3), 0px 1px 3px 1px rgba(60, 64, 67, 0.15);\n",
              "      fill: #174EA6;\n",
              "    }\n",
              "\n",
              "    [theme=dark] .colab-df-convert {\n",
              "      background-color: #3B4455;\n",
              "      fill: #D2E3FC;\n",
              "    }\n",
              "\n",
              "    [theme=dark] .colab-df-convert:hover {\n",
              "      background-color: #434B5C;\n",
              "      box-shadow: 0px 1px 3px 1px rgba(0, 0, 0, 0.15);\n",
              "      filter: drop-shadow(0px 1px 2px rgba(0, 0, 0, 0.3));\n",
              "      fill: #FFFFFF;\n",
              "    }\n",
              "  </style>\n",
              "\n",
              "      <script>\n",
              "        const buttonEl =\n",
              "          document.querySelector('#df-1463b654-2957-4e34-ae71-2809bcc8bd9a button.colab-df-convert');\n",
              "        buttonEl.style.display =\n",
              "          google.colab.kernel.accessAllowed ? 'block' : 'none';\n",
              "\n",
              "        async function convertToInteractive(key) {\n",
              "          const element = document.querySelector('#df-1463b654-2957-4e34-ae71-2809bcc8bd9a');\n",
              "          const dataTable =\n",
              "            await google.colab.kernel.invokeFunction('convertToInteractive',\n",
              "                                                     [key], {});\n",
              "          if (!dataTable) return;\n",
              "\n",
              "          const docLinkHtml = 'Like what you see? Visit the ' +\n",
              "            '<a target=\"_blank\" href=https://colab.research.google.com/notebooks/data_table.ipynb>data table notebook</a>'\n",
              "            + ' to learn more about interactive tables.';\n",
              "          element.innerHTML = '';\n",
              "          dataTable['output_type'] = 'display_data';\n",
              "          await google.colab.output.renderOutput(dataTable, element);\n",
              "          const docLink = document.createElement('div');\n",
              "          docLink.innerHTML = docLinkHtml;\n",
              "          element.appendChild(docLink);\n",
              "        }\n",
              "      </script>\n",
              "    </div>\n",
              "  </div>\n",
              "  "
            ]
          },
          "metadata": {},
          "execution_count": 1
        }
      ],
      "source": [
        "import pandas as pd\n",
        "import numpy as np\n",
        "from sklearn.metrics.pairwise import cosine_similarity\n",
        "from sklearn.feature_extraction.text import TfidfVectorizer\n",
        "from nltk.corpus import stopwords\n",
        "import re\n",
        "import random\n",
        "\n",
        "df = pd.read_csv(\"https://raw.githubusercontent.com/robbieadam/sistemrekomendasi/main/dataset/program_magang.csv\")\n",
        "df.head()"
      ]
    },
    {
      "cell_type": "markdown",
      "source": [
        "**1. Ikhtisar**"
      ],
      "metadata": {
        "id": "omo6T0xoV29J"
      }
    },
    {
      "cell_type": "code",
      "source": [
        "df.describe()"
      ],
      "metadata": {
        "colab": {
          "base_uri": "https://localhost:8080/",
          "height": 175
        },
        "id": "O9f5xkgWV2be",
        "outputId": "7a08df4d-f81d-445f-89ad-e700a83825e3"
      },
      "execution_count": 3,
      "outputs": [
        {
          "output_type": "execute_result",
          "data": {
            "text/plain": [
              "                                 mitra                           alamat  \\\n",
              "count                               11                               11   \n",
              "unique                              10                               11   \n",
              "top     PT Mitra Integrasi Informatika  Banyumanik Semarang Jawa Tengah   \n",
              "freq                                 2                                1   \n",
              "\n",
              "                                                    modul  \n",
              "count                                                  11  \n",
              "unique                                                 11  \n",
              "top     Text Mining   Machine Learning   Basis Data   ...  \n",
              "freq                                                    1  "
            ],
            "text/html": [
              "\n",
              "  <div id=\"df-e48d37ce-7bce-4521-8f7b-5c27719827ca\">\n",
              "    <div class=\"colab-df-container\">\n",
              "      <div>\n",
              "<style scoped>\n",
              "    .dataframe tbody tr th:only-of-type {\n",
              "        vertical-align: middle;\n",
              "    }\n",
              "\n",
              "    .dataframe tbody tr th {\n",
              "        vertical-align: top;\n",
              "    }\n",
              "\n",
              "    .dataframe thead th {\n",
              "        text-align: right;\n",
              "    }\n",
              "</style>\n",
              "<table border=\"1\" class=\"dataframe\">\n",
              "  <thead>\n",
              "    <tr style=\"text-align: right;\">\n",
              "      <th></th>\n",
              "      <th>mitra</th>\n",
              "      <th>alamat</th>\n",
              "      <th>modul</th>\n",
              "    </tr>\n",
              "  </thead>\n",
              "  <tbody>\n",
              "    <tr>\n",
              "      <th>count</th>\n",
              "      <td>11</td>\n",
              "      <td>11</td>\n",
              "      <td>11</td>\n",
              "    </tr>\n",
              "    <tr>\n",
              "      <th>unique</th>\n",
              "      <td>10</td>\n",
              "      <td>11</td>\n",
              "      <td>11</td>\n",
              "    </tr>\n",
              "    <tr>\n",
              "      <th>top</th>\n",
              "      <td>PT Mitra Integrasi Informatika</td>\n",
              "      <td>Banyumanik Semarang Jawa Tengah</td>\n",
              "      <td>Text Mining   Machine Learning   Basis Data   ...</td>\n",
              "    </tr>\n",
              "    <tr>\n",
              "      <th>freq</th>\n",
              "      <td>2</td>\n",
              "      <td>1</td>\n",
              "      <td>1</td>\n",
              "    </tr>\n",
              "  </tbody>\n",
              "</table>\n",
              "</div>\n",
              "      <button class=\"colab-df-convert\" onclick=\"convertToInteractive('df-e48d37ce-7bce-4521-8f7b-5c27719827ca')\"\n",
              "              title=\"Convert this dataframe to an interactive table.\"\n",
              "              style=\"display:none;\">\n",
              "        \n",
              "  <svg xmlns=\"http://www.w3.org/2000/svg\" height=\"24px\"viewBox=\"0 0 24 24\"\n",
              "       width=\"24px\">\n",
              "    <path d=\"M0 0h24v24H0V0z\" fill=\"none\"/>\n",
              "    <path d=\"M18.56 5.44l.94 2.06.94-2.06 2.06-.94-2.06-.94-.94-2.06-.94 2.06-2.06.94zm-11 1L8.5 8.5l.94-2.06 2.06-.94-2.06-.94L8.5 2.5l-.94 2.06-2.06.94zm10 10l.94 2.06.94-2.06 2.06-.94-2.06-.94-.94-2.06-.94 2.06-2.06.94z\"/><path d=\"M17.41 7.96l-1.37-1.37c-.4-.4-.92-.59-1.43-.59-.52 0-1.04.2-1.43.59L10.3 9.45l-7.72 7.72c-.78.78-.78 2.05 0 2.83L4 21.41c.39.39.9.59 1.41.59.51 0 1.02-.2 1.41-.59l7.78-7.78 2.81-2.81c.8-.78.8-2.07 0-2.86zM5.41 20L4 18.59l7.72-7.72 1.47 1.35L5.41 20z\"/>\n",
              "  </svg>\n",
              "      </button>\n",
              "      \n",
              "  <style>\n",
              "    .colab-df-container {\n",
              "      display:flex;\n",
              "      flex-wrap:wrap;\n",
              "      gap: 12px;\n",
              "    }\n",
              "\n",
              "    .colab-df-convert {\n",
              "      background-color: #E8F0FE;\n",
              "      border: none;\n",
              "      border-radius: 50%;\n",
              "      cursor: pointer;\n",
              "      display: none;\n",
              "      fill: #1967D2;\n",
              "      height: 32px;\n",
              "      padding: 0 0 0 0;\n",
              "      width: 32px;\n",
              "    }\n",
              "\n",
              "    .colab-df-convert:hover {\n",
              "      background-color: #E2EBFA;\n",
              "      box-shadow: 0px 1px 2px rgba(60, 64, 67, 0.3), 0px 1px 3px 1px rgba(60, 64, 67, 0.15);\n",
              "      fill: #174EA6;\n",
              "    }\n",
              "\n",
              "    [theme=dark] .colab-df-convert {\n",
              "      background-color: #3B4455;\n",
              "      fill: #D2E3FC;\n",
              "    }\n",
              "\n",
              "    [theme=dark] .colab-df-convert:hover {\n",
              "      background-color: #434B5C;\n",
              "      box-shadow: 0px 1px 3px 1px rgba(0, 0, 0, 0.15);\n",
              "      filter: drop-shadow(0px 1px 2px rgba(0, 0, 0, 0.3));\n",
              "      fill: #FFFFFF;\n",
              "    }\n",
              "  </style>\n",
              "\n",
              "      <script>\n",
              "        const buttonEl =\n",
              "          document.querySelector('#df-e48d37ce-7bce-4521-8f7b-5c27719827ca button.colab-df-convert');\n",
              "        buttonEl.style.display =\n",
              "          google.colab.kernel.accessAllowed ? 'block' : 'none';\n",
              "\n",
              "        async function convertToInteractive(key) {\n",
              "          const element = document.querySelector('#df-e48d37ce-7bce-4521-8f7b-5c27719827ca');\n",
              "          const dataTable =\n",
              "            await google.colab.kernel.invokeFunction('convertToInteractive',\n",
              "                                                     [key], {});\n",
              "          if (!dataTable) return;\n",
              "\n",
              "          const docLinkHtml = 'Like what you see? Visit the ' +\n",
              "            '<a target=\"_blank\" href=https://colab.research.google.com/notebooks/data_table.ipynb>data table notebook</a>'\n",
              "            + ' to learn more about interactive tables.';\n",
              "          element.innerHTML = '';\n",
              "          dataTable['output_type'] = 'display_data';\n",
              "          await google.colab.output.renderOutput(dataTable, element);\n",
              "          const docLink = document.createElement('div');\n",
              "          docLink.innerHTML = docLinkHtml;\n",
              "          element.appendChild(docLink);\n",
              "        }\n",
              "      </script>\n",
              "    </div>\n",
              "  </div>\n",
              "  "
            ]
          },
          "metadata": {},
          "execution_count": 3
        }
      ]
    },
    {
      "cell_type": "code",
      "source": [
        "df.info()"
      ],
      "metadata": {
        "colab": {
          "base_uri": "https://localhost:8080/"
        },
        "id": "Q77GzERJV_FC",
        "outputId": "b9bb7215-d87f-416b-f837-35a78a04e04c"
      },
      "execution_count": 4,
      "outputs": [
        {
          "output_type": "stream",
          "name": "stdout",
          "text": [
            "<class 'pandas.core.frame.DataFrame'>\n",
            "RangeIndex: 11 entries, 0 to 10\n",
            "Data columns (total 3 columns):\n",
            " #   Column  Non-Null Count  Dtype \n",
            "---  ------  --------------  ----- \n",
            " 0   mitra   11 non-null     object\n",
            " 1   alamat  11 non-null     object\n",
            " 2   modul   11 non-null     object\n",
            "dtypes: object(3)\n",
            "memory usage: 392.0+ bytes\n"
          ]
        }
      ]
    },
    {
      "cell_type": "markdown",
      "source": [
        "**2. Tampilan Modul Pembelajaran (Sebelum Preprocessing)**"
      ],
      "metadata": {
        "id": "YqJc5xD5WB_S"
      }
    },
    {
      "cell_type": "code",
      "source": [
        "def print_description(index):\n",
        "    example = df[df.index == index][['modul', 'mitra','alamat']].values[0]\n",
        "    if len(example) > 0:\n",
        "        print(example[0])\n",
        "        print('mitra:', example[1])\n",
        "        print('alamat:', example[2])"
      ],
      "metadata": {
        "id": "Cwg0W9RUWHLQ"
      },
      "execution_count": 5,
      "outputs": []
    },
    {
      "cell_type": "code",
      "source": [
        "print_description(1)"
      ],
      "metadata": {
        "colab": {
          "base_uri": "https://localhost:8080/"
        },
        "id": "ZCNVKOK_WSE_",
        "outputId": "35437b82-3764-4d2f-c346-b1739669fd5d"
      },
      "execution_count": 6,
      "outputs": [
        {
          "output_type": "stream",
          "name": "stdout",
          "text": [
            "Software Engineering   Time Management   Communication Skills   Team Work   System Analysis dan Design\n",
            "mitra: PT. IlmuKomputerCom Braindevs Sistema\n",
            "alamat: Menara Bidakara 1  Lantai 2,\r\n",
            "Jl. Gatot Subroto Kav. 71-73 Pancoran\r\n",
            "Jakarta Selatan 12870\n"
          ]
        }
      ]
    },
    {
      "cell_type": "code",
      "source": [
        "print_description(3)"
      ],
      "metadata": {
        "colab": {
          "base_uri": "https://localhost:8080/"
        },
        "id": "vmCtdi0iWSLi",
        "outputId": "68603544-09b5-4870-8755-b3ab7fb005dc"
      },
      "execution_count": 7,
      "outputs": [
        {
          "output_type": "stream",
          "name": "stdout",
          "text": [
            "Software Engineering   Software Testing   Riset dan Analaisis   Koordinasi   Pengembangan Perangkat\n",
            "mitra: PT Semesta Integrasi Digital\n",
            "alamat: Jl. Jeruk Purut Dalam No.33, RT.6/RW.3, \r\n",
            "Cilandak Tim., Kec. Ps. Minggu, \r\n",
            "Kota Jakarta Selatan, \r\n",
            "Daerah Khusus Ibukota Jakarta 12560.\n"
          ]
        }
      ]
    },
    {
      "cell_type": "code",
      "source": [
        "print_description(5)"
      ],
      "metadata": {
        "colab": {
          "base_uri": "https://localhost:8080/"
        },
        "id": "rBCQkAvHWeTG",
        "outputId": "d83628cb-a446-4cd7-cac7-f9ebd03c2b58"
      },
      "execution_count": 8,
      "outputs": [
        {
          "output_type": "stream",
          "name": "stdout",
          "text": [
            "Quality Control   Database   API   Deployment\n",
            "mitra: PT Abbauf Mulia Konsultan Teknologi\n",
            "alamat: APL Tower Central Park \r\n",
            "Lantai 19 Unit T7, Jl. Letjen S. Parman \r\n",
            "No.Kavling 28, RT.12/RW.6, \r\n",
            "Tj. Duren Sel., Kec. Grogol petamburan, \r\n",
            "Kota Jakarta Barat, \r\n",
            "Daerah Khusus Ibukota Jakarta 11470\n"
          ]
        }
      ]
    },
    {
      "cell_type": "markdown",
      "source": [
        "**3. Text Preprocessing**"
      ],
      "metadata": {
        "id": "vZbZyLltW9xH"
      }
    },
    {
      "cell_type": "code",
      "source": [
        "import nltk\n",
        "nltk.download('stopwords')\n",
        "clean_spcl = re.compile('[/(){}\\[\\]\\|@,;]')\n",
        "clean_symbol = re.compile('[^0-9a-z #+_]')\n",
        "#stopworda = set(stopwords.words('english'))\n",
        "\n",
        "def clean_text(text):\n",
        "    \"\"\"\n",
        "        text: a string\n",
        "        \n",
        "        return: modified initial string\n",
        "    \"\"\"\n",
        "    text = text.lower() # lowercase text\n",
        "    text = clean_spcl.sub(' ', text)\n",
        "    text = clean_symbol.sub('', text)\n",
        "    #text = ' '.join(word for word in text.split() if word not in stopworda) # hapus stopword dari kolom deskripsi\n",
        "    return text\n",
        "    \n",
        "df['modul_pembelajaran_clean'] = df['modul'].apply(clean_text)"
      ],
      "metadata": {
        "colab": {
          "base_uri": "https://localhost:8080/"
        },
        "id": "sDkDo8VsW-9t",
        "outputId": "4a871c9f-192a-4972-93e4-d851e2172aeb"
      },
      "execution_count": 9,
      "outputs": [
        {
          "output_type": "stream",
          "name": "stderr",
          "text": [
            "[nltk_data] Downloading package stopwords to /root/nltk_data...\n",
            "[nltk_data]   Unzipping corpora/stopwords.zip.\n"
          ]
        }
      ]
    },
    {
      "cell_type": "code",
      "source": [
        "df.head()"
      ],
      "metadata": {
        "colab": {
          "base_uri": "https://localhost:8080/",
          "height": 320
        },
        "id": "X44DdSVlXIpo",
        "outputId": "cd954667-44a3-4513-f8e1-6098736dc788"
      },
      "execution_count": 10,
      "outputs": [
        {
          "output_type": "execute_result",
          "data": {
            "text/plain": [
              "                                   mitra  \\\n",
              "0                                 Robbie   \n",
              "1  PT. IlmuKomputerCom Braindevs Sistema   \n",
              "2         PT Mitra Integrasi Informatika   \n",
              "3           PT Semesta Integrasi Digital   \n",
              "4      PT Telkom Indonesia (Persero) Tbk   \n",
              "\n",
              "                                              alamat  \\\n",
              "0                    Banyumanik Semarang Jawa Tengah   \n",
              "1  Menara Bidakara 1  Lantai 2,\\r\\nJl. Gatot Subr...   \n",
              "2  APL Tower Lantai 37, Jl. Letjen S. Parman Kav....   \n",
              "3  Jl. Jeruk Purut Dalam No.33, RT.6/RW.3, \\r\\nCi...   \n",
              "4                               Jl Japati 1, Bandung   \n",
              "\n",
              "                                               modul  \\\n",
              "0  Text Mining   Machine Learning   Basis Data   ...   \n",
              "1  Software Engineering   Time Management   Commu...   \n",
              "2  Documentation Skills   Coding   Analytic Skill...   \n",
              "3  Software Engineering   Software Testing   Rise...   \n",
              "4  Software Development   Component Integration  ...   \n",
              "\n",
              "                            modul_pembelajaran_clean  \n",
              "0  text mining   machine learning   basis data   ...  \n",
              "1  software engineering   time management   commu...  \n",
              "2  documentation skills   coding   analytic skill...  \n",
              "3  software engineering   software testing   rise...  \n",
              "4  software development   component integration  ...  "
            ],
            "text/html": [
              "\n",
              "  <div id=\"df-1009303b-8494-474f-8d33-7aa93d47fbcb\">\n",
              "    <div class=\"colab-df-container\">\n",
              "      <div>\n",
              "<style scoped>\n",
              "    .dataframe tbody tr th:only-of-type {\n",
              "        vertical-align: middle;\n",
              "    }\n",
              "\n",
              "    .dataframe tbody tr th {\n",
              "        vertical-align: top;\n",
              "    }\n",
              "\n",
              "    .dataframe thead th {\n",
              "        text-align: right;\n",
              "    }\n",
              "</style>\n",
              "<table border=\"1\" class=\"dataframe\">\n",
              "  <thead>\n",
              "    <tr style=\"text-align: right;\">\n",
              "      <th></th>\n",
              "      <th>mitra</th>\n",
              "      <th>alamat</th>\n",
              "      <th>modul</th>\n",
              "      <th>modul_pembelajaran_clean</th>\n",
              "    </tr>\n",
              "  </thead>\n",
              "  <tbody>\n",
              "    <tr>\n",
              "      <th>0</th>\n",
              "      <td>Robbie</td>\n",
              "      <td>Banyumanik Semarang Jawa Tengah</td>\n",
              "      <td>Text Mining   Machine Learning   Basis Data   ...</td>\n",
              "      <td>text mining   machine learning   basis data   ...</td>\n",
              "    </tr>\n",
              "    <tr>\n",
              "      <th>1</th>\n",
              "      <td>PT. IlmuKomputerCom Braindevs Sistema</td>\n",
              "      <td>Menara Bidakara 1  Lantai 2,\\r\\nJl. Gatot Subr...</td>\n",
              "      <td>Software Engineering   Time Management   Commu...</td>\n",
              "      <td>software engineering   time management   commu...</td>\n",
              "    </tr>\n",
              "    <tr>\n",
              "      <th>2</th>\n",
              "      <td>PT Mitra Integrasi Informatika</td>\n",
              "      <td>APL Tower Lantai 37, Jl. Letjen S. Parman Kav....</td>\n",
              "      <td>Documentation Skills   Coding   Analytic Skill...</td>\n",
              "      <td>documentation skills   coding   analytic skill...</td>\n",
              "    </tr>\n",
              "    <tr>\n",
              "      <th>3</th>\n",
              "      <td>PT Semesta Integrasi Digital</td>\n",
              "      <td>Jl. Jeruk Purut Dalam No.33, RT.6/RW.3, \\r\\nCi...</td>\n",
              "      <td>Software Engineering   Software Testing   Rise...</td>\n",
              "      <td>software engineering   software testing   rise...</td>\n",
              "    </tr>\n",
              "    <tr>\n",
              "      <th>4</th>\n",
              "      <td>PT Telkom Indonesia (Persero) Tbk</td>\n",
              "      <td>Jl Japati 1, Bandung</td>\n",
              "      <td>Software Development   Component Integration  ...</td>\n",
              "      <td>software development   component integration  ...</td>\n",
              "    </tr>\n",
              "  </tbody>\n",
              "</table>\n",
              "</div>\n",
              "      <button class=\"colab-df-convert\" onclick=\"convertToInteractive('df-1009303b-8494-474f-8d33-7aa93d47fbcb')\"\n",
              "              title=\"Convert this dataframe to an interactive table.\"\n",
              "              style=\"display:none;\">\n",
              "        \n",
              "  <svg xmlns=\"http://www.w3.org/2000/svg\" height=\"24px\"viewBox=\"0 0 24 24\"\n",
              "       width=\"24px\">\n",
              "    <path d=\"M0 0h24v24H0V0z\" fill=\"none\"/>\n",
              "    <path d=\"M18.56 5.44l.94 2.06.94-2.06 2.06-.94-2.06-.94-.94-2.06-.94 2.06-2.06.94zm-11 1L8.5 8.5l.94-2.06 2.06-.94-2.06-.94L8.5 2.5l-.94 2.06-2.06.94zm10 10l.94 2.06.94-2.06 2.06-.94-2.06-.94-.94-2.06-.94 2.06-2.06.94z\"/><path d=\"M17.41 7.96l-1.37-1.37c-.4-.4-.92-.59-1.43-.59-.52 0-1.04.2-1.43.59L10.3 9.45l-7.72 7.72c-.78.78-.78 2.05 0 2.83L4 21.41c.39.39.9.59 1.41.59.51 0 1.02-.2 1.41-.59l7.78-7.78 2.81-2.81c.8-.78.8-2.07 0-2.86zM5.41 20L4 18.59l7.72-7.72 1.47 1.35L5.41 20z\"/>\n",
              "  </svg>\n",
              "      </button>\n",
              "      \n",
              "  <style>\n",
              "    .colab-df-container {\n",
              "      display:flex;\n",
              "      flex-wrap:wrap;\n",
              "      gap: 12px;\n",
              "    }\n",
              "\n",
              "    .colab-df-convert {\n",
              "      background-color: #E8F0FE;\n",
              "      border: none;\n",
              "      border-radius: 50%;\n",
              "      cursor: pointer;\n",
              "      display: none;\n",
              "      fill: #1967D2;\n",
              "      height: 32px;\n",
              "      padding: 0 0 0 0;\n",
              "      width: 32px;\n",
              "    }\n",
              "\n",
              "    .colab-df-convert:hover {\n",
              "      background-color: #E2EBFA;\n",
              "      box-shadow: 0px 1px 2px rgba(60, 64, 67, 0.3), 0px 1px 3px 1px rgba(60, 64, 67, 0.15);\n",
              "      fill: #174EA6;\n",
              "    }\n",
              "\n",
              "    [theme=dark] .colab-df-convert {\n",
              "      background-color: #3B4455;\n",
              "      fill: #D2E3FC;\n",
              "    }\n",
              "\n",
              "    [theme=dark] .colab-df-convert:hover {\n",
              "      background-color: #434B5C;\n",
              "      box-shadow: 0px 1px 3px 1px rgba(0, 0, 0, 0.15);\n",
              "      filter: drop-shadow(0px 1px 2px rgba(0, 0, 0, 0.3));\n",
              "      fill: #FFFFFF;\n",
              "    }\n",
              "  </style>\n",
              "\n",
              "      <script>\n",
              "        const buttonEl =\n",
              "          document.querySelector('#df-1009303b-8494-474f-8d33-7aa93d47fbcb button.colab-df-convert');\n",
              "        buttonEl.style.display =\n",
              "          google.colab.kernel.accessAllowed ? 'block' : 'none';\n",
              "\n",
              "        async function convertToInteractive(key) {\n",
              "          const element = document.querySelector('#df-1009303b-8494-474f-8d33-7aa93d47fbcb');\n",
              "          const dataTable =\n",
              "            await google.colab.kernel.invokeFunction('convertToInteractive',\n",
              "                                                     [key], {});\n",
              "          if (!dataTable) return;\n",
              "\n",
              "          const docLinkHtml = 'Like what you see? Visit the ' +\n",
              "            '<a target=\"_blank\" href=https://colab.research.google.com/notebooks/data_table.ipynb>data table notebook</a>'\n",
              "            + ' to learn more about interactive tables.';\n",
              "          element.innerHTML = '';\n",
              "          dataTable['output_type'] = 'display_data';\n",
              "          await google.colab.output.renderOutput(dataTable, element);\n",
              "          const docLink = document.createElement('div');\n",
              "          docLink.innerHTML = docLinkHtml;\n",
              "          element.appendChild(docLink);\n",
              "        }\n",
              "      </script>\n",
              "    </div>\n",
              "  </div>\n",
              "  "
            ]
          },
          "metadata": {},
          "execution_count": 10
        }
      ]
    },
    {
      "cell_type": "markdown",
      "source": [
        "**4. Tampilan Modul Pembelajaran (Setelah Preprocessing)**"
      ],
      "metadata": {
        "id": "DThmBE2rXNG3"
      }
    },
    {
      "cell_type": "code",
      "source": [
        "# Tampilan kedua (Setelah preprocessing)\n",
        "def print_description_clean(index):\n",
        "    example = df[df.index == index][['modul_pembelajaran_clean', 'mitra','alamat']].values[0]\n",
        "    if len(example) > 0:\n",
        "        print(example[0])\n",
        "        print('mitra:', example[1])\n",
        "        print('alamat:', example[2])"
      ],
      "metadata": {
        "id": "3cNU0CJgXRIF"
      },
      "execution_count": 11,
      "outputs": []
    },
    {
      "cell_type": "code",
      "source": [
        "print_description_clean(1)"
      ],
      "metadata": {
        "colab": {
          "base_uri": "https://localhost:8080/"
        },
        "id": "8gUpj-3mXetc",
        "outputId": "32cb942e-de64-4868-c861-acb9ec98bb3f"
      },
      "execution_count": 12,
      "outputs": [
        {
          "output_type": "stream",
          "name": "stdout",
          "text": [
            "software engineering   time management   communication skills   team work   system analysis dan design\n",
            "mitra: PT. IlmuKomputerCom Braindevs Sistema\n",
            "alamat: Menara Bidakara 1  Lantai 2,\r\n",
            "Jl. Gatot Subroto Kav. 71-73 Pancoran\r\n",
            "Jakarta Selatan 12870\n"
          ]
        }
      ]
    },
    {
      "cell_type": "code",
      "source": [
        "print_description_clean(2)"
      ],
      "metadata": {
        "colab": {
          "base_uri": "https://localhost:8080/"
        },
        "id": "svWZ7uriXiZ1",
        "outputId": "babcac11-4cff-45fe-9dae-6642f6443fe4"
      },
      "execution_count": 13,
      "outputs": [
        {
          "output_type": "stream",
          "name": "stdout",
          "text": [
            "documentation skills   coding   analytic skills   communication skills   presentation skills\n",
            "mitra: PT Mitra Integrasi Informatika\n",
            "alamat: APL Tower Lantai 37, Jl. Letjen S. Parman Kav. \r\n",
            "28, RT.12/RW.6, Tj. Duren Sel., Jakarta Barat, \r\n",
            "Kota Jakarta Barat, \r\n",
            "Daerah Khusus Ibukota Jakarta 11470\n"
          ]
        }
      ]
    },
    {
      "cell_type": "code",
      "source": [
        "print_description_clean(5)"
      ],
      "metadata": {
        "colab": {
          "base_uri": "https://localhost:8080/"
        },
        "id": "WAHY0tfOXmAu",
        "outputId": "9bbee3f9-3a08-4747-8840-bdc1605ea539"
      },
      "execution_count": 14,
      "outputs": [
        {
          "output_type": "stream",
          "name": "stdout",
          "text": [
            "quality control   database   api   deployment\n",
            "mitra: PT Abbauf Mulia Konsultan Teknologi\n",
            "alamat: APL Tower Central Park \r\n",
            "Lantai 19 Unit T7, Jl. Letjen S. Parman \r\n",
            "No.Kavling 28, RT.12/RW.6, \r\n",
            "Tj. Duren Sel., Kec. Grogol petamburan, \r\n",
            "Kota Jakarta Barat, \r\n",
            "Daerah Khusus Ibukota Jakarta 11470\n"
          ]
        }
      ]
    },
    {
      "cell_type": "markdown",
      "source": [
        "**5. TF-IDF & Cosine Similarity**"
      ],
      "metadata": {
        "id": "Z_2lcD9nXp-O"
      }
    },
    {
      "cell_type": "code",
      "source": [
        "df.set_index('mitra', inplace=True)\n",
        "tf = TfidfVectorizer(analyzer='word', ngram_range=(1, 3), min_df=0, stop_words='english')\n",
        "tfidf_matrix = tf.fit_transform(df['modul_pembelajaran_clean'])\n",
        "cos_sim = cosine_similarity(tfidf_matrix, tfidf_matrix)\n",
        "cos_sim"
      ],
      "metadata": {
        "colab": {
          "base_uri": "https://localhost:8080/"
        },
        "id": "osTZt9pfXrP7",
        "outputId": "aed9297f-1a67-4457-fdf7-011cd6150e6c"
      },
      "execution_count": 15,
      "outputs": [
        {
          "output_type": "execute_result",
          "data": {
            "text/plain": [
              "array([[1.        , 0.        , 0.        , 0.01990878, 0.020046  ,\n",
              "        0.        , 0.0303574 , 0.02980632, 0.        , 0.        ,\n",
              "        0.        ],\n",
              "       [0.        , 1.        , 0.15171958, 0.12016205, 0.07791703,\n",
              "        0.        , 0.        , 0.        , 0.02577011, 0.        ,\n",
              "        0.0484071 ],\n",
              "       [0.        , 0.15171958, 1.        , 0.        , 0.        ,\n",
              "        0.        , 0.        , 0.        , 0.        , 0.        ,\n",
              "        0.        ],\n",
              "       [0.01990878, 0.12016205, 0.        , 1.        , 0.0441957 ,\n",
              "        0.        , 0.        , 0.        , 0.        , 0.        ,\n",
              "        0.05810861],\n",
              "       [0.020046  , 0.07791703, 0.        , 0.0441957 , 1.        ,\n",
              "        0.        , 0.        , 0.        , 0.03822683, 0.        ,\n",
              "        0.05135387],\n",
              "       [0.        , 0.        , 0.        , 0.        , 0.        ,\n",
              "        1.        , 0.        , 0.06367502, 0.        , 0.        ,\n",
              "        0.        ],\n",
              "       [0.0303574 , 0.        , 0.        , 0.        , 0.        ,\n",
              "        0.        , 1.        , 0.01252537, 0.01114433, 0.        ,\n",
              "        0.        ],\n",
              "       [0.02980632, 0.        , 0.        , 0.        , 0.        ,\n",
              "        0.06367502, 0.01252537, 1.        , 0.01094202, 0.        ,\n",
              "        0.05123811],\n",
              "       [0.        , 0.02577011, 0.        , 0.        , 0.03822683,\n",
              "        0.        , 0.01114433, 0.01094202, 1.        , 0.        ,\n",
              "        0.03977898],\n",
              "       [0.        , 0.        , 0.        , 0.        , 0.        ,\n",
              "        0.        , 0.        , 0.        , 0.        , 1.        ,\n",
              "        0.        ],\n",
              "       [0.        , 0.0484071 , 0.        , 0.05810861, 0.05135387,\n",
              "        0.        , 0.        , 0.05123811, 0.03977898, 0.        ,\n",
              "        1.        ]])"
            ]
          },
          "metadata": {},
          "execution_count": 15
        }
      ]
    },
    {
      "cell_type": "code",
      "source": [
        "# Set index utama di kolom 'mitra'\n",
        "indices = pd.Series(df.index)\n",
        "indices[:50]"
      ],
      "metadata": {
        "colab": {
          "base_uri": "https://localhost:8080/"
        },
        "id": "ZuMVjvpTX4o0",
        "outputId": "6e2d97a8-2a1d-4163-c525-cb5d08be19f6"
      },
      "execution_count": 16,
      "outputs": [
        {
          "output_type": "execute_result",
          "data": {
            "text/plain": [
              "0                                    Robbie\n",
              "1     PT. IlmuKomputerCom Braindevs Sistema\n",
              "2            PT Mitra Integrasi Informatika\n",
              "3              PT Semesta Integrasi Digital\n",
              "4         PT Telkom Indonesia (Persero) Tbk\n",
              "5       PT Abbauf Mulia Konsultan Teknologi\n",
              "6                PT Orbit Ventura Indonesia\n",
              "7              PT Nurul Fikri Cipta Inovasi\n",
              "8       PT MariBelajar Indonesia \\r\\nCerdas\n",
              "9            PT Mitra Integrasi Informatika\n",
              "10         PT. Impactbyte Teknologi Edukasi\n",
              "Name: mitra, dtype: object"
            ]
          },
          "metadata": {},
          "execution_count": 16
        }
      ]
    },
    {
      "cell_type": "markdown",
      "source": [
        "**6. Modelling**"
      ],
      "metadata": {
        "id": "cupHZxg1X8QO"
      }
    },
    {
      "cell_type": "code",
      "source": [
        "def recommendations(name, cos_sim = cos_sim):\n",
        "    \n",
        "    recommended_modul = []\n",
        "    \n",
        "    # Mengambil nama modul berdasarkan variabel indicies\n",
        "    idx = indices[indices == name].index[0]\n",
        "\n",
        "    # Membuat series berdasarkan skor kesamaan\n",
        "    score_series = pd.Series(cos_sim[idx]).sort_values(ascending = False)\n",
        "\n",
        "    # mengambil index dan dibuat 3 baris rekomendasi terbaik\n",
        "    top_10_indexes = list(score_series.iloc[1:4].index)\n",
        "    \n",
        "    for i in top_10_indexes:\n",
        "        recommended_modul.append(list(df.index)[i])\n",
        "        \n",
        "    return recommended_modul"
      ],
      "metadata": {
        "id": "Q7CBrpKVX9cl"
      },
      "execution_count": 17,
      "outputs": []
    },
    {
      "cell_type": "markdown",
      "source": [
        "**7. Prediksi**"
      ],
      "metadata": {
        "id": "-DelegazYE37"
      }
    },
    {
      "cell_type": "code",
      "source": [
        "recommendations('Robbie')"
      ],
      "metadata": {
        "colab": {
          "base_uri": "https://localhost:8080/"
        },
        "id": "cFTMJQDuYF46",
        "outputId": "0bfd690f-5d2d-444c-c050-5220fb165d8e"
      },
      "execution_count": 18,
      "outputs": [
        {
          "output_type": "execute_result",
          "data": {
            "text/plain": [
              "['PT Orbit Ventura Indonesia',\n",
              " 'PT Nurul Fikri Cipta Inovasi',\n",
              " 'PT Telkom Indonesia (Persero) Tbk']"
            ]
          },
          "metadata": {},
          "execution_count": 18
        }
      ]
    },
    {
      "cell_type": "code",
      "source": [
        "recommendations('PT Telkom Indonesia (Persero) Tbk')"
      ],
      "metadata": {
        "colab": {
          "base_uri": "https://localhost:8080/"
        },
        "id": "_o3gPB7IYMk7",
        "outputId": "ac650fe9-d24a-4d14-e004-47d4f8a472c9"
      },
      "execution_count": 19,
      "outputs": [
        {
          "output_type": "execute_result",
          "data": {
            "text/plain": [
              "['PT. IlmuKomputerCom Braindevs Sistema',\n",
              " 'PT. Impactbyte Teknologi Edukasi',\n",
              " 'PT Semesta Integrasi Digital']"
            ]
          },
          "metadata": {},
          "execution_count": 19
        }
      ]
    },
    {
      "cell_type": "code",
      "source": [
        "recommendations('PT Nurul Fikri Cipta Inovasi')"
      ],
      "metadata": {
        "colab": {
          "base_uri": "https://localhost:8080/"
        },
        "id": "O6J3h5peYTz1",
        "outputId": "5d056d9f-5ec3-4ef8-fd9f-1c829d3e6390"
      },
      "execution_count": 20,
      "outputs": [
        {
          "output_type": "execute_result",
          "data": {
            "text/plain": [
              "['PT Abbauf Mulia Konsultan Teknologi',\n",
              " 'PT. Impactbyte Teknologi Edukasi',\n",
              " 'Robbie']"
            ]
          },
          "metadata": {},
          "execution_count": 20
        }
      ]
    }
  ]
}