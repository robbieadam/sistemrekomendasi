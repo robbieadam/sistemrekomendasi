{
  "cells": [
    {
      "cell_type": "markdown",
      "metadata": {
        "id": "_l4K2lME6aeK"
      },
      "source": [
        "# Content Based Filtering : Hotel Bandung"
      ]
    },
    {
      "cell_type": "code",
      "execution_count": 2,
      "metadata": {
        "id": "mwxB1rdL6aeM",
        "outputId": "34766ef8-b399-4b66-e1e2-a972ab1ec264",
        "colab": {
          "base_uri": "https://localhost:8080/",
          "height": 206
        }
      },
      "outputs": [
        {
          "output_type": "execute_result",
          "data": {
            "text/plain": [
              "                                name  \\\n",
              "0  Capital O 253 Topas Galeria Hotel   \n",
              "1    Sheraton Bandung Hotel & Towers   \n",
              "2     OYO 794 Ln 9 Bandung Residence   \n",
              "3                   OYO 226 LJ hotel   \n",
              "4            OYO 230 Maleo Residence   \n",
              "\n",
              "                                             address  \\\n",
              "0  Jl. Dr. Djundjunan No. 153, 40173 Bandung, Ind...   \n",
              "1      Jl. Ir H Juanda 390, 40135 Bandung, Indonesia   \n",
              "2  Jalan Lemahnendeut No 9, Sukajadi, 40164 Bandu...   \n",
              "3  Jl. Malabar No.2, Malabar, Lengkong, Dago, Asi...   \n",
              "4  JI. Dangeur Indah II No. 15, Sukagalih, Sukaja...   \n",
              "\n",
              "                                         description  \n",
              "0  A 10-minute drive from Bandung Airport, Topas ...  \n",
              "1  Sheraton Hotel & Towers offers 5-star accommod...  \n",
              "2  Conveniently located in Sukajadi, Bandung, OYO...  \n",
              "3  Featuring a shared lounge, OYO 226 LJ hotel is...  \n",
              "4  Attractively set in the Sukajadi district of B...  "
            ],
            "text/html": [
              "\n",
              "  <div id=\"df-659ec0a9-8184-4b6c-8da9-5f90f15f8522\">\n",
              "    <div class=\"colab-df-container\">\n",
              "      <div>\n",
              "<style scoped>\n",
              "    .dataframe tbody tr th:only-of-type {\n",
              "        vertical-align: middle;\n",
              "    }\n",
              "\n",
              "    .dataframe tbody tr th {\n",
              "        vertical-align: top;\n",
              "    }\n",
              "\n",
              "    .dataframe thead th {\n",
              "        text-align: right;\n",
              "    }\n",
              "</style>\n",
              "<table border=\"1\" class=\"dataframe\">\n",
              "  <thead>\n",
              "    <tr style=\"text-align: right;\">\n",
              "      <th></th>\n",
              "      <th>name</th>\n",
              "      <th>address</th>\n",
              "      <th>description</th>\n",
              "    </tr>\n",
              "  </thead>\n",
              "  <tbody>\n",
              "    <tr>\n",
              "      <th>0</th>\n",
              "      <td>Capital O 253 Topas Galeria Hotel</td>\n",
              "      <td>Jl. Dr. Djundjunan No. 153, 40173 Bandung, Ind...</td>\n",
              "      <td>A 10-minute drive from Bandung Airport, Topas ...</td>\n",
              "    </tr>\n",
              "    <tr>\n",
              "      <th>1</th>\n",
              "      <td>Sheraton Bandung Hotel &amp; Towers</td>\n",
              "      <td>Jl. Ir H Juanda 390, 40135 Bandung, Indonesia</td>\n",
              "      <td>Sheraton Hotel &amp; Towers offers 5-star accommod...</td>\n",
              "    </tr>\n",
              "    <tr>\n",
              "      <th>2</th>\n",
              "      <td>OYO 794 Ln 9 Bandung Residence</td>\n",
              "      <td>Jalan Lemahnendeut No 9, Sukajadi, 40164 Bandu...</td>\n",
              "      <td>Conveniently located in Sukajadi, Bandung, OYO...</td>\n",
              "    </tr>\n",
              "    <tr>\n",
              "      <th>3</th>\n",
              "      <td>OYO 226 LJ hotel</td>\n",
              "      <td>Jl. Malabar No.2, Malabar, Lengkong, Dago, Asi...</td>\n",
              "      <td>Featuring a shared lounge, OYO 226 LJ hotel is...</td>\n",
              "    </tr>\n",
              "    <tr>\n",
              "      <th>4</th>\n",
              "      <td>OYO 230 Maleo Residence</td>\n",
              "      <td>JI. Dangeur Indah II No. 15, Sukagalih, Sukaja...</td>\n",
              "      <td>Attractively set in the Sukajadi district of B...</td>\n",
              "    </tr>\n",
              "  </tbody>\n",
              "</table>\n",
              "</div>\n",
              "      <button class=\"colab-df-convert\" onclick=\"convertToInteractive('df-659ec0a9-8184-4b6c-8da9-5f90f15f8522')\"\n",
              "              title=\"Convert this dataframe to an interactive table.\"\n",
              "              style=\"display:none;\">\n",
              "        \n",
              "  <svg xmlns=\"http://www.w3.org/2000/svg\" height=\"24px\"viewBox=\"0 0 24 24\"\n",
              "       width=\"24px\">\n",
              "    <path d=\"M0 0h24v24H0V0z\" fill=\"none\"/>\n",
              "    <path d=\"M18.56 5.44l.94 2.06.94-2.06 2.06-.94-2.06-.94-.94-2.06-.94 2.06-2.06.94zm-11 1L8.5 8.5l.94-2.06 2.06-.94-2.06-.94L8.5 2.5l-.94 2.06-2.06.94zm10 10l.94 2.06.94-2.06 2.06-.94-2.06-.94-.94-2.06-.94 2.06-2.06.94z\"/><path d=\"M17.41 7.96l-1.37-1.37c-.4-.4-.92-.59-1.43-.59-.52 0-1.04.2-1.43.59L10.3 9.45l-7.72 7.72c-.78.78-.78 2.05 0 2.83L4 21.41c.39.39.9.59 1.41.59.51 0 1.02-.2 1.41-.59l7.78-7.78 2.81-2.81c.8-.78.8-2.07 0-2.86zM5.41 20L4 18.59l7.72-7.72 1.47 1.35L5.41 20z\"/>\n",
              "  </svg>\n",
              "      </button>\n",
              "      \n",
              "  <style>\n",
              "    .colab-df-container {\n",
              "      display:flex;\n",
              "      flex-wrap:wrap;\n",
              "      gap: 12px;\n",
              "    }\n",
              "\n",
              "    .colab-df-convert {\n",
              "      background-color: #E8F0FE;\n",
              "      border: none;\n",
              "      border-radius: 50%;\n",
              "      cursor: pointer;\n",
              "      display: none;\n",
              "      fill: #1967D2;\n",
              "      height: 32px;\n",
              "      padding: 0 0 0 0;\n",
              "      width: 32px;\n",
              "    }\n",
              "\n",
              "    .colab-df-convert:hover {\n",
              "      background-color: #E2EBFA;\n",
              "      box-shadow: 0px 1px 2px rgba(60, 64, 67, 0.3), 0px 1px 3px 1px rgba(60, 64, 67, 0.15);\n",
              "      fill: #174EA6;\n",
              "    }\n",
              "\n",
              "    [theme=dark] .colab-df-convert {\n",
              "      background-color: #3B4455;\n",
              "      fill: #D2E3FC;\n",
              "    }\n",
              "\n",
              "    [theme=dark] .colab-df-convert:hover {\n",
              "      background-color: #434B5C;\n",
              "      box-shadow: 0px 1px 3px 1px rgba(0, 0, 0, 0.15);\n",
              "      filter: drop-shadow(0px 1px 2px rgba(0, 0, 0, 0.3));\n",
              "      fill: #FFFFFF;\n",
              "    }\n",
              "  </style>\n",
              "\n",
              "      <script>\n",
              "        const buttonEl =\n",
              "          document.querySelector('#df-659ec0a9-8184-4b6c-8da9-5f90f15f8522 button.colab-df-convert');\n",
              "        buttonEl.style.display =\n",
              "          google.colab.kernel.accessAllowed ? 'block' : 'none';\n",
              "\n",
              "        async function convertToInteractive(key) {\n",
              "          const element = document.querySelector('#df-659ec0a9-8184-4b6c-8da9-5f90f15f8522');\n",
              "          const dataTable =\n",
              "            await google.colab.kernel.invokeFunction('convertToInteractive',\n",
              "                                                     [key], {});\n",
              "          if (!dataTable) return;\n",
              "\n",
              "          const docLinkHtml = 'Like what you see? Visit the ' +\n",
              "            '<a target=\"_blank\" href=https://colab.research.google.com/notebooks/data_table.ipynb>data table notebook</a>'\n",
              "            + ' to learn more about interactive tables.';\n",
              "          element.innerHTML = '';\n",
              "          dataTable['output_type'] = 'display_data';\n",
              "          await google.colab.output.renderOutput(dataTable, element);\n",
              "          const docLink = document.createElement('div');\n",
              "          docLink.innerHTML = docLinkHtml;\n",
              "          element.appendChild(docLink);\n",
              "        }\n",
              "      </script>\n",
              "    </div>\n",
              "  </div>\n",
              "  "
            ]
          },
          "metadata": {},
          "execution_count": 2
        }
      ],
      "source": [
        "import pandas as pd\n",
        "import numpy as np\n",
        "from sklearn.metrics.pairwise import cosine_similarity\n",
        "from sklearn.feature_extraction.text import TfidfVectorizer\n",
        "from nltk.corpus import stopwords\n",
        "import re\n",
        "import random\n",
        "\n",
        "df = pd.read_csv(\"https://raw.githubusercontent.com/robbieadam/sistemrekomendasi/main/dataset/hotel_bandung_english.csv\")\n",
        "df.head()"
      ]
    },
    {
      "cell_type": "markdown",
      "metadata": {
        "id": "nRDMB31I6aeO"
      },
      "source": [
        "## 1. Ikhtisar"
      ]
    },
    {
      "cell_type": "code",
      "execution_count": 3,
      "metadata": {
        "id": "-4AI2HxG6aeP",
        "outputId": "7d172322-1d20-429f-ac4d-a750a59a90ac",
        "colab": {
          "base_uri": "https://localhost:8080/",
          "height": 175
        }
      },
      "outputs": [
        {
          "output_type": "execute_result",
          "data": {
            "text/plain": [
              "                                  name  \\\n",
              "count                              105   \n",
              "unique                             101   \n",
              "top     OYO 794 Ln 9 Bandung Residence   \n",
              "freq                                 3   \n",
              "\n",
              "                                                  address  \\\n",
              "count                                                 105   \n",
              "unique                                                102   \n",
              "top     Jalan Lemahnendeut No 9, Sukajadi, 40164 Bandu...   \n",
              "freq                                                    3   \n",
              "\n",
              "                                              description  \n",
              "count                                                 105  \n",
              "unique                                                103  \n",
              "top     Conveniently located in Sukajadi, Bandung, OYO...  \n",
              "freq                                                    2  "
            ],
            "text/html": [
              "\n",
              "  <div id=\"df-3ac24b46-aa3f-4920-9313-f8b3f2d0a66a\">\n",
              "    <div class=\"colab-df-container\">\n",
              "      <div>\n",
              "<style scoped>\n",
              "    .dataframe tbody tr th:only-of-type {\n",
              "        vertical-align: middle;\n",
              "    }\n",
              "\n",
              "    .dataframe tbody tr th {\n",
              "        vertical-align: top;\n",
              "    }\n",
              "\n",
              "    .dataframe thead th {\n",
              "        text-align: right;\n",
              "    }\n",
              "</style>\n",
              "<table border=\"1\" class=\"dataframe\">\n",
              "  <thead>\n",
              "    <tr style=\"text-align: right;\">\n",
              "      <th></th>\n",
              "      <th>name</th>\n",
              "      <th>address</th>\n",
              "      <th>description</th>\n",
              "    </tr>\n",
              "  </thead>\n",
              "  <tbody>\n",
              "    <tr>\n",
              "      <th>count</th>\n",
              "      <td>105</td>\n",
              "      <td>105</td>\n",
              "      <td>105</td>\n",
              "    </tr>\n",
              "    <tr>\n",
              "      <th>unique</th>\n",
              "      <td>101</td>\n",
              "      <td>102</td>\n",
              "      <td>103</td>\n",
              "    </tr>\n",
              "    <tr>\n",
              "      <th>top</th>\n",
              "      <td>OYO 794 Ln 9 Bandung Residence</td>\n",
              "      <td>Jalan Lemahnendeut No 9, Sukajadi, 40164 Bandu...</td>\n",
              "      <td>Conveniently located in Sukajadi, Bandung, OYO...</td>\n",
              "    </tr>\n",
              "    <tr>\n",
              "      <th>freq</th>\n",
              "      <td>3</td>\n",
              "      <td>3</td>\n",
              "      <td>2</td>\n",
              "    </tr>\n",
              "  </tbody>\n",
              "</table>\n",
              "</div>\n",
              "      <button class=\"colab-df-convert\" onclick=\"convertToInteractive('df-3ac24b46-aa3f-4920-9313-f8b3f2d0a66a')\"\n",
              "              title=\"Convert this dataframe to an interactive table.\"\n",
              "              style=\"display:none;\">\n",
              "        \n",
              "  <svg xmlns=\"http://www.w3.org/2000/svg\" height=\"24px\"viewBox=\"0 0 24 24\"\n",
              "       width=\"24px\">\n",
              "    <path d=\"M0 0h24v24H0V0z\" fill=\"none\"/>\n",
              "    <path d=\"M18.56 5.44l.94 2.06.94-2.06 2.06-.94-2.06-.94-.94-2.06-.94 2.06-2.06.94zm-11 1L8.5 8.5l.94-2.06 2.06-.94-2.06-.94L8.5 2.5l-.94 2.06-2.06.94zm10 10l.94 2.06.94-2.06 2.06-.94-2.06-.94-.94-2.06-.94 2.06-2.06.94z\"/><path d=\"M17.41 7.96l-1.37-1.37c-.4-.4-.92-.59-1.43-.59-.52 0-1.04.2-1.43.59L10.3 9.45l-7.72 7.72c-.78.78-.78 2.05 0 2.83L4 21.41c.39.39.9.59 1.41.59.51 0 1.02-.2 1.41-.59l7.78-7.78 2.81-2.81c.8-.78.8-2.07 0-2.86zM5.41 20L4 18.59l7.72-7.72 1.47 1.35L5.41 20z\"/>\n",
              "  </svg>\n",
              "      </button>\n",
              "      \n",
              "  <style>\n",
              "    .colab-df-container {\n",
              "      display:flex;\n",
              "      flex-wrap:wrap;\n",
              "      gap: 12px;\n",
              "    }\n",
              "\n",
              "    .colab-df-convert {\n",
              "      background-color: #E8F0FE;\n",
              "      border: none;\n",
              "      border-radius: 50%;\n",
              "      cursor: pointer;\n",
              "      display: none;\n",
              "      fill: #1967D2;\n",
              "      height: 32px;\n",
              "      padding: 0 0 0 0;\n",
              "      width: 32px;\n",
              "    }\n",
              "\n",
              "    .colab-df-convert:hover {\n",
              "      background-color: #E2EBFA;\n",
              "      box-shadow: 0px 1px 2px rgba(60, 64, 67, 0.3), 0px 1px 3px 1px rgba(60, 64, 67, 0.15);\n",
              "      fill: #174EA6;\n",
              "    }\n",
              "\n",
              "    [theme=dark] .colab-df-convert {\n",
              "      background-color: #3B4455;\n",
              "      fill: #D2E3FC;\n",
              "    }\n",
              "\n",
              "    [theme=dark] .colab-df-convert:hover {\n",
              "      background-color: #434B5C;\n",
              "      box-shadow: 0px 1px 3px 1px rgba(0, 0, 0, 0.15);\n",
              "      filter: drop-shadow(0px 1px 2px rgba(0, 0, 0, 0.3));\n",
              "      fill: #FFFFFF;\n",
              "    }\n",
              "  </style>\n",
              "\n",
              "      <script>\n",
              "        const buttonEl =\n",
              "          document.querySelector('#df-3ac24b46-aa3f-4920-9313-f8b3f2d0a66a button.colab-df-convert');\n",
              "        buttonEl.style.display =\n",
              "          google.colab.kernel.accessAllowed ? 'block' : 'none';\n",
              "\n",
              "        async function convertToInteractive(key) {\n",
              "          const element = document.querySelector('#df-3ac24b46-aa3f-4920-9313-f8b3f2d0a66a');\n",
              "          const dataTable =\n",
              "            await google.colab.kernel.invokeFunction('convertToInteractive',\n",
              "                                                     [key], {});\n",
              "          if (!dataTable) return;\n",
              "\n",
              "          const docLinkHtml = 'Like what you see? Visit the ' +\n",
              "            '<a target=\"_blank\" href=https://colab.research.google.com/notebooks/data_table.ipynb>data table notebook</a>'\n",
              "            + ' to learn more about interactive tables.';\n",
              "          element.innerHTML = '';\n",
              "          dataTable['output_type'] = 'display_data';\n",
              "          await google.colab.output.renderOutput(dataTable, element);\n",
              "          const docLink = document.createElement('div');\n",
              "          docLink.innerHTML = docLinkHtml;\n",
              "          element.appendChild(docLink);\n",
              "        }\n",
              "      </script>\n",
              "    </div>\n",
              "  </div>\n",
              "  "
            ]
          },
          "metadata": {},
          "execution_count": 3
        }
      ],
      "source": [
        "df.describe()"
      ]
    },
    {
      "cell_type": "code",
      "execution_count": 4,
      "metadata": {
        "id": "xK50m-fn6aeQ",
        "outputId": "7d8ebd8b-cb9a-4af0-cf07-03f19a422574",
        "colab": {
          "base_uri": "https://localhost:8080/"
        }
      },
      "outputs": [
        {
          "output_type": "stream",
          "name": "stdout",
          "text": [
            "<class 'pandas.core.frame.DataFrame'>\n",
            "RangeIndex: 105 entries, 0 to 104\n",
            "Data columns (total 3 columns):\n",
            " #   Column       Non-Null Count  Dtype \n",
            "---  ------       --------------  ----- \n",
            " 0   name         105 non-null    object\n",
            " 1   address      105 non-null    object\n",
            " 2   description  105 non-null    object\n",
            "dtypes: object(3)\n",
            "memory usage: 2.6+ KB\n"
          ]
        }
      ],
      "source": [
        "df.info()"
      ]
    },
    {
      "cell_type": "markdown",
      "metadata": {
        "id": "1PvoWliy6aeQ"
      },
      "source": [
        "## 2. Deskripsi Hotel (Sebelum Preprocessing)"
      ]
    },
    {
      "cell_type": "code",
      "execution_count": 5,
      "metadata": {
        "id": "BKTXrHK96aeR"
      },
      "outputs": [],
      "source": [
        "def print_description(index):\n",
        "    example = df[df.index == index][['description', 'name', 'address']].values[0]\n",
        "    if len(example) > 0:\n",
        "        print(example[0])\n",
        "        print('Nama:', example[1])\n",
        "        print('Alamat:', example[2])"
      ]
    },
    {
      "cell_type": "code",
      "execution_count": 6,
      "metadata": {
        "id": "VowVlUjZ6aeS",
        "outputId": "4625c621-f50f-465a-a5d8-d70848969089",
        "colab": {
          "base_uri": "https://localhost:8080/"
        }
      },
      "outputs": [
        {
          "output_type": "stream",
          "name": "stdout",
          "text": [
            "Sheraton Hotel & Towers offers 5-star accommodation in the middle of a green landscape in Bandung. All spacious rooms come with a flat-screen cable TV. The hotel offers an outdoor pool, spa center and restaurant with mountain views. Wi-Fi access is available free in all areas of the hotel. Elegant rooms have modern interiors, light wood furnishings and large windows. Each provides a comfortable seating area, DVD player and private bathroom with shower. You can work out in the gym or enjoy body treatments at the spa. Reception staff are ready to serve your needs for 24 hours. International and Asian dishes are offered at Feast Restaurant, while soft drinks are served at Samsara Lounge. A variety of cocktails and snacks are also available at Poolside Terrace. Sheraton Bandung Hotel & Towers is a 10-minute drive from Juanda Culture Park and Dago area, where various factory outlets are located. Husein Sastranegara Airport is a 30-minute drive away.\n",
            "Nama: Sheraton Bandung Hotel & Towers\n",
            "Alamat: Jl. Ir H Juanda 390, 40135 Bandung, Indonesia\n"
          ]
        }
      ],
      "source": [
        "print_description(1)"
      ]
    },
    {
      "cell_type": "code",
      "execution_count": 7,
      "metadata": {
        "id": "FMfia5tI6aeT",
        "outputId": "5e226d7f-3c23-474f-a827-72448277f714",
        "colab": {
          "base_uri": "https://localhost:8080/"
        }
      },
      "outputs": [
        {
          "output_type": "stream",
          "name": "stdout",
          "text": [
            "Featuring an outdoor pool and a restaurant, House-Sangkuriang is conveniently located just a 5-minute walk from Dago’s factory outlets. It has a 24-hour front desk and provides free Wi-Fi access in all areas. Elegant and warmly lit, the air-conditioned rooms in House-Sangkuriang include hardwood floors. A flat-screen satellite TV, an electric kettle and a free one-time minibar are among the in-room comforts, and a shower, slippers and a hairdryer are included in the private bathrooms. The hotel also serves daily afternoon tea in the lobby and on the pool terrace. Cihampelas Walk Mall is a 10-minute drive from the property, and Husein Sastranegara Airport is a 20-minute drive away. Airport transportation can be arranged upon request. The staff at the front desk can assist with valet parking and luggage storage. Housing a business center, the hotel also provides laundry service for a fee. International dishes are served at Dining Room. Guests can also dine in the comfort of their rooms.\n",
            "Nama: House Sangkuriang\n",
            "Alamat: Jl. Sangkuriang no.1 Dago, Kecamatan Coblong, 40135 Bandung, Indonesia\n"
          ]
        }
      ],
      "source": [
        "print_description(50)"
      ]
    },
    {
      "cell_type": "code",
      "execution_count": 8,
      "metadata": {
        "id": "Vfju8XTD6aeU",
        "outputId": "ad1d431a-8704-4cdc-8dd4-815e0498509f",
        "colab": {
          "base_uri": "https://localhost:8080/"
        }
      },
      "outputs": [
        {
          "output_type": "stream",
          "name": "stdout",
          "text": [
            "With Stasiun Hall Bus Terminal reachable in a 4-minute walk, neo MORITZ Homestay has accommodations, a restaurant, a garden, a bar and a terrace. Guests wishing to travel light can make use of Towels/Sheets (extra fee). A halal breakfast is available every morning at the family stay. Merdeka Palace is a 17-minute walk from neo MORITZ Homestay, while Braga City Walk is 1.4 km from the property. The nearest airport is Husein Sastranegara Airport, 5.1 km from the accommodation.\n",
            "Nama: Neo MORITZ Homestay\n",
            "Alamat: Jl. Kebon Jati No. 35 Luxor Permai Complex Behind the Market, 40181 Bandung, Indonesia\n"
          ]
        }
      ],
      "source": [
        "print_description(89)"
      ]
    },
    {
      "cell_type": "markdown",
      "metadata": {
        "id": "e9csXkvO6aeV"
      },
      "source": [
        "## 3. Text Preprocessing"
      ]
    },
    {
      "cell_type": "code",
      "execution_count": 10,
      "metadata": {
        "id": "O_3db8ZQ6aeV"
      },
      "outputs": [],
      "source": [
        "clean_spcl = re.compile('[/(){}\\[\\]\\|@,;]')\n",
        "clean_symbol = re.compile('[^0-9a-z #+_]')\n",
        "#stopworda = set(stopwords.words('english'))\n",
        "\n",
        "def clean_text(text):\n",
        "    \"\"\"\n",
        "        text: a string\n",
        "        \n",
        "        return: modified initial string\n",
        "    \"\"\"\n",
        "    text = text.lower() # lowercase text\n",
        "    text = clean_spcl.sub(' ', text)\n",
        "    text = clean_symbol.sub('', text)\n",
        "    #text = ' '.join(word for word in text.split() if word not in stopworda) # hapus stopword dari kolom deskripsi\n",
        "    return text\n",
        "    \n",
        "df['desc_clean'] = df['description'].apply(clean_text)"
      ]
    },
    {
      "cell_type": "code",
      "execution_count": 11,
      "metadata": {
        "id": "8i2Q4Ruz6aeW",
        "outputId": "35098105-019c-4290-e4c6-2802706a04b2",
        "colab": {
          "base_uri": "https://localhost:8080/",
          "height": 285
        }
      },
      "outputs": [
        {
          "output_type": "execute_result",
          "data": {
            "text/plain": [
              "                                name  \\\n",
              "0  Capital O 253 Topas Galeria Hotel   \n",
              "1    Sheraton Bandung Hotel & Towers   \n",
              "2     OYO 794 Ln 9 Bandung Residence   \n",
              "3                   OYO 226 LJ hotel   \n",
              "4            OYO 230 Maleo Residence   \n",
              "\n",
              "                                             address  \\\n",
              "0  Jl. Dr. Djundjunan No. 153, 40173 Bandung, Ind...   \n",
              "1      Jl. Ir H Juanda 390, 40135 Bandung, Indonesia   \n",
              "2  Jalan Lemahnendeut No 9, Sukajadi, 40164 Bandu...   \n",
              "3  Jl. Malabar No.2, Malabar, Lengkong, Dago, Asi...   \n",
              "4  JI. Dangeur Indah II No. 15, Sukagalih, Sukaja...   \n",
              "\n",
              "                                         description  \\\n",
              "0  A 10-minute drive from Bandung Airport, Topas ...   \n",
              "1  Sheraton Hotel & Towers offers 5-star accommod...   \n",
              "2  Conveniently located in Sukajadi, Bandung, OYO...   \n",
              "3  Featuring a shared lounge, OYO 226 LJ hotel is...   \n",
              "4  Attractively set in the Sukajadi district of B...   \n",
              "\n",
              "                                          desc_clean  \n",
              "0  a 10minute drive from bandung airport  topas g...  \n",
              "1  sheraton hotel  towers offers 5star accommodat...  \n",
              "2  conveniently located in sukajadi  bandung  oyo...  \n",
              "3  featuring a shared lounge  oyo 226 lj hotel is...  \n",
              "4  attractively set in the sukajadi district of b...  "
            ],
            "text/html": [
              "\n",
              "  <div id=\"df-a4b95842-52db-4cd0-b986-8e8a9072f8b3\">\n",
              "    <div class=\"colab-df-container\">\n",
              "      <div>\n",
              "<style scoped>\n",
              "    .dataframe tbody tr th:only-of-type {\n",
              "        vertical-align: middle;\n",
              "    }\n",
              "\n",
              "    .dataframe tbody tr th {\n",
              "        vertical-align: top;\n",
              "    }\n",
              "\n",
              "    .dataframe thead th {\n",
              "        text-align: right;\n",
              "    }\n",
              "</style>\n",
              "<table border=\"1\" class=\"dataframe\">\n",
              "  <thead>\n",
              "    <tr style=\"text-align: right;\">\n",
              "      <th></th>\n",
              "      <th>name</th>\n",
              "      <th>address</th>\n",
              "      <th>description</th>\n",
              "      <th>desc_clean</th>\n",
              "    </tr>\n",
              "  </thead>\n",
              "  <tbody>\n",
              "    <tr>\n",
              "      <th>0</th>\n",
              "      <td>Capital O 253 Topas Galeria Hotel</td>\n",
              "      <td>Jl. Dr. Djundjunan No. 153, 40173 Bandung, Ind...</td>\n",
              "      <td>A 10-minute drive from Bandung Airport, Topas ...</td>\n",
              "      <td>a 10minute drive from bandung airport  topas g...</td>\n",
              "    </tr>\n",
              "    <tr>\n",
              "      <th>1</th>\n",
              "      <td>Sheraton Bandung Hotel &amp; Towers</td>\n",
              "      <td>Jl. Ir H Juanda 390, 40135 Bandung, Indonesia</td>\n",
              "      <td>Sheraton Hotel &amp; Towers offers 5-star accommod...</td>\n",
              "      <td>sheraton hotel  towers offers 5star accommodat...</td>\n",
              "    </tr>\n",
              "    <tr>\n",
              "      <th>2</th>\n",
              "      <td>OYO 794 Ln 9 Bandung Residence</td>\n",
              "      <td>Jalan Lemahnendeut No 9, Sukajadi, 40164 Bandu...</td>\n",
              "      <td>Conveniently located in Sukajadi, Bandung, OYO...</td>\n",
              "      <td>conveniently located in sukajadi  bandung  oyo...</td>\n",
              "    </tr>\n",
              "    <tr>\n",
              "      <th>3</th>\n",
              "      <td>OYO 226 LJ hotel</td>\n",
              "      <td>Jl. Malabar No.2, Malabar, Lengkong, Dago, Asi...</td>\n",
              "      <td>Featuring a shared lounge, OYO 226 LJ hotel is...</td>\n",
              "      <td>featuring a shared lounge  oyo 226 lj hotel is...</td>\n",
              "    </tr>\n",
              "    <tr>\n",
              "      <th>4</th>\n",
              "      <td>OYO 230 Maleo Residence</td>\n",
              "      <td>JI. Dangeur Indah II No. 15, Sukagalih, Sukaja...</td>\n",
              "      <td>Attractively set in the Sukajadi district of B...</td>\n",
              "      <td>attractively set in the sukajadi district of b...</td>\n",
              "    </tr>\n",
              "  </tbody>\n",
              "</table>\n",
              "</div>\n",
              "      <button class=\"colab-df-convert\" onclick=\"convertToInteractive('df-a4b95842-52db-4cd0-b986-8e8a9072f8b3')\"\n",
              "              title=\"Convert this dataframe to an interactive table.\"\n",
              "              style=\"display:none;\">\n",
              "        \n",
              "  <svg xmlns=\"http://www.w3.org/2000/svg\" height=\"24px\"viewBox=\"0 0 24 24\"\n",
              "       width=\"24px\">\n",
              "    <path d=\"M0 0h24v24H0V0z\" fill=\"none\"/>\n",
              "    <path d=\"M18.56 5.44l.94 2.06.94-2.06 2.06-.94-2.06-.94-.94-2.06-.94 2.06-2.06.94zm-11 1L8.5 8.5l.94-2.06 2.06-.94-2.06-.94L8.5 2.5l-.94 2.06-2.06.94zm10 10l.94 2.06.94-2.06 2.06-.94-2.06-.94-.94-2.06-.94 2.06-2.06.94z\"/><path d=\"M17.41 7.96l-1.37-1.37c-.4-.4-.92-.59-1.43-.59-.52 0-1.04.2-1.43.59L10.3 9.45l-7.72 7.72c-.78.78-.78 2.05 0 2.83L4 21.41c.39.39.9.59 1.41.59.51 0 1.02-.2 1.41-.59l7.78-7.78 2.81-2.81c.8-.78.8-2.07 0-2.86zM5.41 20L4 18.59l7.72-7.72 1.47 1.35L5.41 20z\"/>\n",
              "  </svg>\n",
              "      </button>\n",
              "      \n",
              "  <style>\n",
              "    .colab-df-container {\n",
              "      display:flex;\n",
              "      flex-wrap:wrap;\n",
              "      gap: 12px;\n",
              "    }\n",
              "\n",
              "    .colab-df-convert {\n",
              "      background-color: #E8F0FE;\n",
              "      border: none;\n",
              "      border-radius: 50%;\n",
              "      cursor: pointer;\n",
              "      display: none;\n",
              "      fill: #1967D2;\n",
              "      height: 32px;\n",
              "      padding: 0 0 0 0;\n",
              "      width: 32px;\n",
              "    }\n",
              "\n",
              "    .colab-df-convert:hover {\n",
              "      background-color: #E2EBFA;\n",
              "      box-shadow: 0px 1px 2px rgba(60, 64, 67, 0.3), 0px 1px 3px 1px rgba(60, 64, 67, 0.15);\n",
              "      fill: #174EA6;\n",
              "    }\n",
              "\n",
              "    [theme=dark] .colab-df-convert {\n",
              "      background-color: #3B4455;\n",
              "      fill: #D2E3FC;\n",
              "    }\n",
              "\n",
              "    [theme=dark] .colab-df-convert:hover {\n",
              "      background-color: #434B5C;\n",
              "      box-shadow: 0px 1px 3px 1px rgba(0, 0, 0, 0.15);\n",
              "      filter: drop-shadow(0px 1px 2px rgba(0, 0, 0, 0.3));\n",
              "      fill: #FFFFFF;\n",
              "    }\n",
              "  </style>\n",
              "\n",
              "      <script>\n",
              "        const buttonEl =\n",
              "          document.querySelector('#df-a4b95842-52db-4cd0-b986-8e8a9072f8b3 button.colab-df-convert');\n",
              "        buttonEl.style.display =\n",
              "          google.colab.kernel.accessAllowed ? 'block' : 'none';\n",
              "\n",
              "        async function convertToInteractive(key) {\n",
              "          const element = document.querySelector('#df-a4b95842-52db-4cd0-b986-8e8a9072f8b3');\n",
              "          const dataTable =\n",
              "            await google.colab.kernel.invokeFunction('convertToInteractive',\n",
              "                                                     [key], {});\n",
              "          if (!dataTable) return;\n",
              "\n",
              "          const docLinkHtml = 'Like what you see? Visit the ' +\n",
              "            '<a target=\"_blank\" href=https://colab.research.google.com/notebooks/data_table.ipynb>data table notebook</a>'\n",
              "            + ' to learn more about interactive tables.';\n",
              "          element.innerHTML = '';\n",
              "          dataTable['output_type'] = 'display_data';\n",
              "          await google.colab.output.renderOutput(dataTable, element);\n",
              "          const docLink = document.createElement('div');\n",
              "          docLink.innerHTML = docLinkHtml;\n",
              "          element.appendChild(docLink);\n",
              "        }\n",
              "      </script>\n",
              "    </div>\n",
              "  </div>\n",
              "  "
            ]
          },
          "metadata": {},
          "execution_count": 11
        }
      ],
      "source": [
        "df.head()"
      ]
    },
    {
      "cell_type": "markdown",
      "metadata": {
        "id": "ouCJO-cl6aeX"
      },
      "source": [
        "## 4. Deskripsi Hotel (Setelah Preprocessing)"
      ]
    },
    {
      "cell_type": "code",
      "execution_count": 12,
      "metadata": {
        "id": "UAGqA_q46aeX"
      },
      "outputs": [],
      "source": [
        "# Deskripsi kedua (Setelah preprocessing)\n",
        "def print_description_clean(index):\n",
        "    example = df[df.index == index][['desc_clean', 'name', 'address']].values[0]\n",
        "    if len(example) > 0:\n",
        "        print(example[0])\n",
        "        print('Nama:', example[1])\n",
        "        print('Alamat:', example[2])"
      ]
    },
    {
      "cell_type": "code",
      "execution_count": 13,
      "metadata": {
        "id": "zOM4dDYP6aeY",
        "outputId": "184dbf61-4014-4df4-d820-dad462844036",
        "colab": {
          "base_uri": "https://localhost:8080/"
        }
      },
      "outputs": [
        {
          "output_type": "stream",
          "name": "stdout",
          "text": [
            "sheraton hotel  towers offers 5star accommodation in the middle of a green landscape in bandungall spacious rooms come with a flatscreen cable tvthe hotel offers an outdoor pool  spa center and restaurant with mountain viewswifi access is available free in all areas of the hotelelegant rooms have modern interiors  light wood furnishings and large windowseach provides a comfortable seating area  dvd player and private bathroom with showeryou can work out in the gym or enjoy body treatments at the spareception staff are ready to serve your needs for 24 hoursinternational and asian dishes are offered at feast restaurant  while soft drinks are served at samsara loungea variety of cocktails and snacks are also available at poolside terracesheraton bandung hotel  towers is a 10minute drive from juanda culture park and dago area  where various factory outlets are locatedhusein sastranegara airport is a 30minute drive away\n",
            "Nama: Sheraton Bandung Hotel & Towers\n",
            "Alamat: Jl. Ir H Juanda 390, 40135 Bandung, Indonesia\n"
          ]
        }
      ],
      "source": [
        "print_description_clean(1)"
      ]
    },
    {
      "cell_type": "code",
      "execution_count": 14,
      "metadata": {
        "id": "ZnJKBI9z6aeY",
        "outputId": "e4eab25e-afac-4088-9b25-d560277d1bd6",
        "colab": {
          "base_uri": "https://localhost:8080/"
        }
      },
      "outputs": [
        {
          "output_type": "stream",
          "name": "stdout",
          "text": [
            "featuring an outdoor pool and a restaurant  housesangkuriang is conveniently located just a 5minute walk from dagos factory outlets it has a 24hour front desk and provides free wifi access in all areas elegant and warmly lit  the airconditioned rooms in housesangkuriang include hardwood floors a flatscreen satellite tv  an electric kettle and a free onetime minibar are among the inroom comforts  and a shower  slippers and a hairdryer are included in the private bathrooms the hotel also serves daily afternoon tea in the lobby and on the pool terrace cihampelas walk mall is a 10minute drive from the property  and husein sastranegara airport is a 20minute drive away airport transportation can be arranged upon request the staff at the front desk can assist with valet parking and luggage storage housing a business center  the hotel also provides laundry service for a fee international dishes are served at dining room guests can also dine in the comfort of their rooms\n",
            "Nama: House Sangkuriang\n",
            "Alamat: Jl. Sangkuriang no.1 Dago, Kecamatan Coblong, 40135 Bandung, Indonesia\n"
          ]
        }
      ],
      "source": [
        "print_description_clean(50)"
      ]
    },
    {
      "cell_type": "code",
      "execution_count": 15,
      "metadata": {
        "id": "8NS4gz7X6aeZ",
        "outputId": "56c6ec9c-136f-4691-9fd5-be819adb023b",
        "colab": {
          "base_uri": "https://localhost:8080/"
        }
      },
      "outputs": [
        {
          "output_type": "stream",
          "name": "stdout",
          "text": [
            "With Stasiun Hall Bus Terminal reachable in a 4-minute walk, neo MORITZ Homestay has accommodations, a restaurant, a garden, a bar and a terrace. Guests wishing to travel light can make use of Towels/Sheets (extra fee). A halal breakfast is available every morning at the family stay. Merdeka Palace is a 17-minute walk from neo MORITZ Homestay, while Braga City Walk is 1.4 km from the property. The nearest airport is Husein Sastranegara Airport, 5.1 km from the accommodation.\n",
            "Nama: Neo MORITZ Homestay\n",
            "Alamat: Jl. Kebon Jati No. 35 Luxor Permai Complex Behind the Market, 40181 Bandung, Indonesia\n"
          ]
        }
      ],
      "source": [
        "print_description(89)"
      ]
    },
    {
      "cell_type": "markdown",
      "metadata": {
        "id": "pefdiO-H6aea"
      },
      "source": [
        "## 5. TF-IDF & Cosine Similarity"
      ]
    },
    {
      "cell_type": "code",
      "execution_count": 16,
      "metadata": {
        "scrolled": false,
        "id": "fI5EG65h6aea",
        "outputId": "3a1c2cb7-f9e7-4153-d11c-1a1b68580535",
        "colab": {
          "base_uri": "https://localhost:8080/"
        }
      },
      "outputs": [
        {
          "output_type": "execute_result",
          "data": {
            "text/plain": [
              "array([[1.        , 0.02250818, 0.01254879, ..., 0.01044102, 0.04017144,\n",
              "        0.03531754],\n",
              "       [0.02250818, 1.        , 0.01040992, ..., 0.01269843, 0.02856891,\n",
              "        0.01847406],\n",
              "       [0.01254879, 0.01040992, 1.        , ..., 0.12575247, 0.01082423,\n",
              "        0.02511644],\n",
              "       ...,\n",
              "       [0.01044102, 0.01269843, 0.12575247, ..., 1.        , 0.01065003,\n",
              "        0.02392556],\n",
              "       [0.04017144, 0.02856891, 0.01082423, ..., 0.01065003, 1.        ,\n",
              "        0.03826221],\n",
              "       [0.03531754, 0.01847406, 0.02511644, ..., 0.02392556, 0.03826221,\n",
              "        1.        ]])"
            ]
          },
          "metadata": {},
          "execution_count": 16
        }
      ],
      "source": [
        "df.set_index('name', inplace=True)\n",
        "tf = TfidfVectorizer(analyzer='word', ngram_range=(1, 3), min_df=0, stop_words='english')\n",
        "tfidf_matrix = tf.fit_transform(df['desc_clean'])\n",
        "cos_sim = cosine_similarity(tfidf_matrix, tfidf_matrix)\n",
        "cos_sim"
      ]
    },
    {
      "cell_type": "code",
      "execution_count": 17,
      "metadata": {
        "id": "jqs6XuVl6aeb",
        "outputId": "a3ef07c6-afd2-4a06-ddb5-257013f4570b",
        "colab": {
          "base_uri": "https://localhost:8080/"
        }
      },
      "outputs": [
        {
          "output_type": "execute_result",
          "data": {
            "text/plain": [
              "0                Capital O 253 Topas Galeria Hotel\n",
              "1                  Sheraton Bandung Hotel & Towers\n",
              "2                   OYO 794 Ln 9 Bandung Residence\n",
              "3                                 OYO 226 LJ hotel\n",
              "4                          OYO 230 Maleo Residence\n",
              "5                        OYO 167 Dago's Hill Hotel\n",
              "6                   OYO 794 Ln 9 Bandung Residence\n",
              "7                       OYO 196 Horizone Residence\n",
              "8     OYO 483 Flagship Tamansari Panoramic Bandung\n",
              "9               OYO 295 Grha Ciumbuleuit Residence\n",
              "10                            OYO 193 SM Residence\n",
              "11              Capital O 874 Hotel Nyland Pasteur\n",
              "12                            OYO 352 Sabang Hotel\n",
              "13                                  Hilton Bandung\n",
              "14             InterContinental Bandung Dago Pakar\n",
              "15                                Aryaduta Bandung\n",
              "16               Art Deco Luxury Hotel & Residence\n",
              "17                            Crowne Plaza Bandung\n",
              "18          Best Western Premier La Grande Bandung\n",
              "19                         éL Royale Hotel Bandung\n",
              "20              Courtyard by Marriott Bandung Dago\n",
              "21                 Four Points by Sheraton Bandung\n",
              "22                     Mercure Bandung City Center\n",
              "23                   Swiss-Belresort Dago Heritage\n",
              "24                            OYO 228 Hotel Lodaya\n",
              "25                    Prama Grand Preanger Bandung\n",
              "26                                        P Hostel\n",
              "27                  The Trans Luxury Hotel Bandung\n",
              "28                            Grand Tjokro Bandung\n",
              "29                 Grand Mercure Bandung Setiabudi\n",
              "30                   Aston Tropicana Hotel Bandung\n",
              "31                     De Paviljoen Bandung by HIM\n",
              "32                             Sensa Hotel Bandung\n",
              "33                       Ibis Bandung Trans Studio\n",
              "34                                   Aston Pasteur\n",
              "35                              The Luxton Bandung\n",
              "36                     Holiday Inn Bandung Pasteur\n",
              "37                              Savoy Homann Hotel\n",
              "38       The Jayakarta Suites Bandung, Hotel & Spa\n",
              "39                    Arion Swiss-Belhotel Bandung\n",
              "40                                    MOXY Bandung\n",
              "41                       Ibis Styles Bandung Braga\n",
              "42                    Favehotel Premier Cihampelas\n",
              "43                           De JAVA Hotel Bandung\n",
              "44                               El Cavana Bandung\n",
              "45                 Ibis Budget Bandung Asia Africa\n",
              "46                            Ibis Bandung Pasteur\n",
              "47                                 Favehotel Braga\n",
              "48                             Ivory Hotel Bandung\n",
              "49                                  The Papandayan\n",
              "Name: name, dtype: object"
            ]
          },
          "metadata": {},
          "execution_count": 17
        }
      ],
      "source": [
        "# Set index utama di kolom 'name'\n",
        "indices = pd.Series(df.index)\n",
        "indices[:50]"
      ]
    },
    {
      "cell_type": "markdown",
      "metadata": {
        "id": "62NoHwaB6aeb"
      },
      "source": [
        "## 6. Modelling"
      ]
    },
    {
      "cell_type": "code",
      "execution_count": 18,
      "metadata": {
        "id": "O3K6qdWS6aeb"
      },
      "outputs": [],
      "source": [
        "def recommendations(name, cos_sim = cos_sim):\n",
        "    \n",
        "    recommended_hotel = []\n",
        "    \n",
        "    # Mengambil nama hotel berdasarkan variabel indicies\n",
        "    idx = indices[indices == name].index[0]\n",
        "\n",
        "    # Membuat series berdasarkan skor kesamaan\n",
        "    score_series = pd.Series(cos_sim[idx]).sort_values(ascending = False)\n",
        "\n",
        "    # mengambil index dan dibuat 10 baris rekomendasi terbaik\n",
        "    top_10_indexes = list(score_series.iloc[1:11].index)\n",
        "    \n",
        "    for i in top_10_indexes:\n",
        "        recommended_hotel.append(list(df.index)[i])\n",
        "        \n",
        "    return recommended_hotel"
      ]
    },
    {
      "cell_type": "markdown",
      "metadata": {
        "scrolled": false,
        "id": "weWQvNfo6aec"
      },
      "source": [
        "## 7. Prediksi"
      ]
    },
    {
      "cell_type": "code",
      "execution_count": 19,
      "metadata": {
        "id": "_VNba4a46aec",
        "outputId": "b7354ebd-8f3e-4011-cb40-460c7e1cb894",
        "colab": {
          "base_uri": "https://localhost:8080/"
        }
      },
      "outputs": [
        {
          "output_type": "execute_result",
          "data": {
            "text/plain": [
              "['FOX Lite Hotel Metro Indah Bandung',\n",
              " 'InterContinental Bandung Dago Pakar',\n",
              " 'Zest Sukajadi Hotel Bandung',\n",
              " 'M Premiere Hotel Dago Bandung',\n",
              " 'Ibis Bandung Pasteur',\n",
              " 'Serela Cihampelas Hotel',\n",
              " 'Grand Cordela Hotel Bandung ',\n",
              " 'Favehotel Hyper Square',\n",
              " 'HARRIS Hotel & Conventions Ciumbuleuit - Bandung',\n",
              " 'Hemangini Hotel Bandung']"
            ]
          },
          "metadata": {},
          "execution_count": 19
        }
      ],
      "source": [
        "recommendations('Benua Hotel')"
      ]
    },
    {
      "cell_type": "code",
      "execution_count": 20,
      "metadata": {
        "id": "FBlYOO0h6aed",
        "outputId": "a6a39cc6-0ee8-41cb-8927-13efad421b28",
        "colab": {
          "base_uri": "https://localhost:8080/"
        }
      },
      "outputs": [
        {
          "output_type": "execute_result",
          "data": {
            "text/plain": [
              "['Vio Cihampelas',\n",
              " 'Grand Sovia Hotel',\n",
              " 'Neo Dipatiukur Bandung',\n",
              " 'Grand Tjokro Bandung',\n",
              " 'HARRIS Hotel & Conventions Ciumbuleuit - Bandung',\n",
              " 'InterContinental Bandung Dago Pakar',\n",
              " 'Ibis Bandung Pasteur',\n",
              " 'Tebu Hotel Bandung',\n",
              " 'Benua Hotel',\n",
              " 'Aryaduta Bandung']"
            ]
          },
          "metadata": {},
          "execution_count": 20
        }
      ],
      "source": [
        "recommendations(\"Serela Cihampelas Hotel\")"
      ]
    },
    {
      "cell_type": "code",
      "execution_count": 21,
      "metadata": {
        "id": "X_xpcRo96aed",
        "outputId": "6a3f50a4-f2f2-4103-9ecc-c86cbb8820e9",
        "colab": {
          "base_uri": "https://localhost:8080/"
        }
      },
      "outputs": [
        {
          "output_type": "execute_result",
          "data": {
            "text/plain": [
              "['Aston Pasteur',\n",
              " 'Neo Dipatiukur Bandung',\n",
              " 'De JAVA Hotel Bandung',\n",
              " 'OYO 193 SM Residence',\n",
              " 'InterContinental Bandung Dago Pakar',\n",
              " 'Ibis Budget Bandung Asia Africa',\n",
              " 'Garden Permata Hotel',\n",
              " 'HARRIS Hotel & Conventions Ciumbuleuit - Bandung',\n",
              " 'The Luxton Bandung',\n",
              " 'Favehotel Braga']"
            ]
          },
          "metadata": {},
          "execution_count": 21
        }
      ],
      "source": [
        "recommendations(\"Ibis Bandung Pasteur\")"
      ]
    },
    {
      "cell_type": "markdown",
      "metadata": {
        "id": "IDX20HH86aed"
      },
      "source": [
        "# Selesai..."
      ]
    }
  ],
  "metadata": {
    "kernelspec": {
      "display_name": "Python 3",
      "language": "python",
      "name": "python3"
    },
    "language_info": {
      "codemirror_mode": {
        "name": "ipython",
        "version": 3
      },
      "file_extension": ".py",
      "mimetype": "text/x-python",
      "name": "python",
      "nbconvert_exporter": "python",
      "pygments_lexer": "ipython3",
      "version": "3.7.3"
    },
    "colab": {
      "provenance": []
    }
  },
  "nbformat": 4,
  "nbformat_minor": 0
}